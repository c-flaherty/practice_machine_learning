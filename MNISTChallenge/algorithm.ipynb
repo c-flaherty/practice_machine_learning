{
 "cells": [
  {
   "cell_type": "code",
   "execution_count": 2,
   "metadata": {},
   "outputs": [],
   "source": [
    "# Setup\n",
    "import pandas as pd\n",
    "import numpy as np\n",
    "import matplotlib.pyplot as plt\n",
    "from tqdm import tqdm as loading_bar\n",
    "from sklearn.model_selection import train_test_split\n",
    "from sklearn.metrics import accuracy_score\n",
    "\n",
    "import torch\n",
    "import torch.nn as nn\n",
    "import torch.optim as optim\n",
    "import torch.utils.data as data_helpers\n",
    "\n",
    "torch.set_default_dtype(torch.float32)\n"
   ]
  },
  {
   "cell_type": "code",
   "execution_count": 3,
   "metadata": {},
   "outputs": [],
   "source": [
    "# Importing Data\n",
    "\n",
    "train_data = pd.read_csv(\"digit-recognizer/train.csv\")\n",
    "submission_data = pd.read_csv(\"digit-recognizer/test.csv\")"
   ]
  },
  {
   "cell_type": "code",
   "execution_count": 4,
   "metadata": {},
   "outputs": [
    {
     "name": "stdout",
     "output_type": "stream",
     "text": [
      "Training data shape: (42000, 785)\n",
      "Testing data shape: (28000, 784)\n",
      "Training Data: (Images: torch.Size([37800, 1, 28, 28]), Labels: torch.Size([37800]))\n",
      "Testing Data: (Images: torch.Size([4200, 1, 28, 28]), Labels: torch.Size([4200]))\n",
      "Submission Data: (Images: torch.Size([28000, 1, 28, 28]))\n"
     ]
    }
   ],
   "source": [
    "print(f'Training data shape: {train_data.shape}')\n",
    "print(f'Testing data shape: {submission_data.shape}')\n",
    "\n",
    "train_x = np.reshape(train_data.iloc[:,1:].to_numpy(np.float32), (-1,1,28,28))\n",
    "train_y = train_data.iloc[:,0].to_numpy()\n",
    "train_x, test_x, train_y, test_y = train_test_split(train_x, train_y, test_size = 0.1)\n",
    "train_x, test_x, train_y, test_y = torch.from_numpy(train_x), \\\n",
    "                                   torch.from_numpy(test_x), \\\n",
    "                                   torch.from_numpy(train_y),\\\n",
    "                                   torch.from_numpy(test_y)\n",
    "\n",
    "submission_x = torch.from_numpy(np.reshape(submission_data.to_numpy(),(-1,1,28,28)))\n",
    "print(f'Training Data: (Images: {train_x.shape}, Labels: {train_y.shape})')\n",
    "print(f'Testing Data: (Images: {test_x.shape}, Labels: {test_y.shape})')\n",
    "print(f'Submission Data: (Images: {submission_x.shape})')"
   ]
  },
  {
   "cell_type": "code",
   "execution_count": 5,
   "metadata": {},
   "outputs": [
    {
     "data": {
      "image/png": "[encoded data removed]",
      "text/plain": [
       "<Figure size 432x288 with 9 Axes>"
      ]
     },
     "metadata": {
      "needs_background": "light"
     },
     "output_type": "display_data"
    }
   ],
   "source": [
    "# Sample Images\n",
    "\n",
    "fig, axes = plt.subplots(3,3)\n",
    "axes = axes.flatten()\n",
    "for i in range(9):\n",
    "    sample_img = train_x[i,0,:,:]\n",
    "    axes[i].imshow(sample_img)"
   ]
  },
  {
   "cell_type": "code",
   "execution_count": 6,
   "metadata": {},
   "outputs": [],
   "source": [
    "# Create CNN Class\n",
    "\n",
    "class CNN(nn.Module):\n",
    "    def __init__(self):\n",
    "        super(CNN, self).__init__()\n",
    "        self.conv_layer=nn.Sequential(\n",
    "            nn.Conv2d(\n",
    "                in_channels=1,\n",
    "                out_channels=16,\n",
    "                kernel_size=3,\n",
    "                padding=1,\n",
    "            ),\n",
    "            nn.ReLU(),\n",
    "            nn.MaxPool2d(\n",
    "                kernel_size=2,\n",
    "            ),\n",
    "            nn.Conv2d(\n",
    "                in_channels=16,\n",
    "                out_channels=16,\n",
    "                kernel_size=3,\n",
    "                padding=1\n",
    "            ),\n",
    "            nn.ReLU(),\n",
    "            nn.MaxPool2d(\n",
    "                kernel_size=2,\n",
    "            ),\n",
    "            nn.Flatten(start_dim=1,end_dim=3)\n",
    "        )\n",
    "        self.linear_layer=nn.Sequential(\n",
    "            nn.Linear(\n",
    "                in_features=784,\n",
    "                out_features=10,\n",
    "            ),\n",
    "        )\n",
    "        \n",
    "        self.loss_fn = nn.CrossEntropyLoss()\n",
    "        self.optimizer= optim.SGD(self.parameters(),lr=0.01)\n",
    "        \n",
    "        self.training_losses = []\n",
    "        self.testing_losses = []\n",
    "        \n",
    "    def forward(self, img):\n",
    "        # img is 28*28 vector\n",
    "        return self.linear_layer(self.conv_layer(img))\n",
    "    \n",
    "    def learn_weights(self, train_x, train_y, test_x, test_y, epochs):\n",
    "        self.train()\n",
    "        sampler = data_helpers.BatchSampler(\n",
    "            data_helpers.SubsetRandomSampler(range(train_x.shape[0])),\n",
    "            batch_size=4,\n",
    "            drop_last=False\n",
    "        )\n",
    "        \n",
    "        for epoch in range(epochs):\n",
    "            for batch in loading_bar(sampler, desc=f'(Current Epoch: {epoch})'):\n",
    "                batch_train_x = train_x[batch,:,:,:]\n",
    "                batch_train_y = train_y[batch]\n",
    "                \n",
    "                self.optimizer.zero_grad()\n",
    "                \n",
    "                batch_train_pred_y = self.forward(batch_train_x)\n",
    "                train_loss = self.loss_fn(batch_train_pred_y, batch_train_y)\n",
    "                \n",
    "                train_loss.backward()\n",
    "                self.optimizer.step()\n",
    "            \n",
    "            train_pred_y = self.forward(train_x)\n",
    "            epochal_training_loss = self.loss_fn(train_pred_y, train_y)\n",
    "            self.training_losses.append(epochal_training_loss)\n",
    "            \n",
    "            test_pred_y = self.forward(test_x)\n",
    "            epochal_testing_loss = self.loss_fn(test_pred_y, test_y)\n",
    "            self.testing_losses.append(epochal_testing_loss)\n",
    "                \n",
    "    def visualize_training(self):\n",
    "        fig, ax = plt.subplots(nrows=1,ncols=1)\n",
    "        ax.plot(self.training_losses, label=\"Training Loss\")\n",
    "        ax.plot(self.testing_losses, label=\"Testing Loss\")\n",
    "        ax.legend()\n",
    "        fig.show()\n",
    "        \n",
    "    def MAP(self, x):\n",
    "        with torch.no_grad():\n",
    "            raw_pred_y = self.forward(x)\n",
    "        \n",
    "        categorical_pred_y = np.argmax(torch.exp(raw_pred_y).numpy(), axis=1)\n",
    "        return categorical_pred_y\n",
    "    \n",
    "    def compute_accuracy(self, test_x, test_y):\n",
    "        return accuracy_score(self.MAP(test_x), test_y)\n",
    "            \n",
    "    "
   ]
  },
  {
   "cell_type": "code",
   "execution_count": null,
   "metadata": {},
   "outputs": [
    {
     "data": {
      "application/vnd.jupyter.widget-view+json": {
       "model_id": "4ae7d4d9ed1a45b59f61e8509512af6f",
       "version_major": 2,
       "version_minor": 0
      },
      "text/plain": [
       "HBox(children=(IntProgress(value=0, description='(Current Epoch: 0)', max=9450, style=ProgressStyle(descriptio…"
      ]
     },
     "metadata": {},
     "output_type": "display_data"
    },
    {
     "name": "stdout",
     "output_type": "stream",
     "text": [
      "\n"
     ]
    },
    {
     "data": {
      "application/vnd.jupyter.widget-view+json": {
       "model_id": "4b214f9b113e4179b6978018176ed39e",
       "version_major": 2,
       "version_minor": 0
      },
      "text/plain": [
       "HBox(children=(IntProgress(value=0, description='(Current Epoch: 1)', max=9450, style=ProgressStyle(descriptio…"
      ]
     },
     "metadata": {},
     "output_type": "display_data"
    },
    {
     "name": "stdout",
     "output_type": "stream",
     "text": [
      "\n"
     ]
    },
    {
     "data": {
      "application/vnd.jupyter.widget-view+json": {
       "model_id": "60266458a0494ba7b0bed93efa3c2083",
       "version_major": 2,
       "version_minor": 0
      },
      "text/plain": [
       "HBox(children=(IntProgress(value=0, description='(Current Epoch: 2)', max=9450, style=ProgressStyle(descriptio…"
      ]
     },
     "metadata": {},
     "output_type": "display_data"
    },
    {
     "name": "stdout",
     "output_type": "stream",
     "text": [
      "\n"
     ]
    },
    {
     "data": {
      "application/vnd.jupyter.widget-view+json": {
       "model_id": "8e16c55686ce45fe83d9ba1e170279f0",
       "version_major": 2,
       "version_minor": 0
      },
      "text/plain": [
       "HBox(children=(IntProgress(value=0, description='(Current Epoch: 3)', max=9450, style=ProgressStyle(descriptio…"
      ]
     },
     "metadata": {},
     "output_type": "display_data"
    },
    {
     "name": "stdout",
     "output_type": "stream",
     "text": [
      "\n"
     ]
    },
    {
     "data": {
      "application/vnd.jupyter.widget-view+json": {
       "model_id": "0f755bbbda634c6b87b173a359b58307",
       "version_major": 2,
       "version_minor": 0
      },
      "text/plain": [
       "HBox(children=(IntProgress(value=0, description='(Current Epoch: 4)', max=9450, style=ProgressStyle(descriptio…"
      ]
     },
     "metadata": {},
     "output_type": "display_data"
    },
    {
     "name": "stdout",
     "output_type": "stream",
     "text": [
      "\n"
     ]
    },
    {
     "data": {
      "application/vnd.jupyter.widget-view+json": {
       "model_id": "f8d819db4ae04529a302057d00185ea8",
       "version_major": 2,
       "version_minor": 0
      },
      "text/plain": [
       "HBox(children=(IntProgress(value=0, description='(Current Epoch: 5)', max=9450, style=ProgressStyle(descriptio…"
      ]
     },
     "metadata": {},
     "output_type": "display_data"
    },
    {
     "name": "stdout",
     "output_type": "stream",
     "text": [
      "\n"
     ]
    },
    {
     "data": {
      "application/vnd.jupyter.widget-view+json": {
       "model_id": "a6f15fbbf23e45c5b0ccb369bbd6cf35",
       "version_major": 2,
       "version_minor": 0
      },
      "text/plain": [
       "HBox(children=(IntProgress(value=0, description='(Current Epoch: 6)', max=9450, style=ProgressStyle(descriptio…"
      ]
     },
     "metadata": {},
     "output_type": "display_data"
    },
    {
     "name": "stdout",
     "output_type": "stream",
     "text": [
      "\n"
     ]
    },
    {
     "data": {
      "application/vnd.jupyter.widget-view+json": {
       "model_id": "3cb9f4815b27407b9017258c4537fe97",
       "version_major": 2,
       "version_minor": 0
      },
      "text/plain": [
       "HBox(children=(IntProgress(value=0, description='(Current Epoch: 7)', max=9450, style=ProgressStyle(descriptio…"
      ]
     },
     "metadata": {},
     "output_type": "display_data"
    },
    {
     "name": "stdout",
     "output_type": "stream",
     "text": [
      "\n"
     ]
    }
   ],
   "source": [
    "# Train model\n",
    "\n",
    "model = CNN()\n",
    "model.learn_weights(train_x, train_y, test_x, test_y, epochs=20)\n",
    "model.visualize_training()\n",
    "\n"
   ]
  },
  {
   "cell_type": "code",
   "execution_count": 1,
   "metadata": {},
   "outputs": [
    {
     "ename": "NameError",
     "evalue": "name 'model' is not defined",
     "output_type": "error",
     "traceback": [
      "\u001b[0;31m---------------------------------------------------------------------------\u001b[0m",
      "\u001b[0;31mNameError\u001b[0m                                 Traceback (most recent call last)",
      "\u001b[0;32m<ipython-input-1-8e53bbb40930>\u001b[0m in \u001b[0;36m<module>\u001b[0;34m\u001b[0m\n\u001b[0;32m----> 1\u001b[0;31m \u001b[0mprint\u001b[0m\u001b[0;34m(\u001b[0m\u001b[0mmodel\u001b[0m\u001b[0;34m.\u001b[0m\u001b[0mtraining_losses\u001b[0m\u001b[0;34m)\u001b[0m\u001b[0;34m\u001b[0m\u001b[0;34m\u001b[0m\u001b[0m\n\u001b[0m\u001b[1;32m      2\u001b[0m \u001b[0;34m\u001b[0m\u001b[0m\n",
      "\u001b[0;31mNameError\u001b[0m: name 'model' is not defined"
     ]
    }
   ],
   "source": [
    "print(model.training_losses)\n",
    "    "
   ]
  },
  {
   "cell_type": "code",
   "execution_count": 49,
   "metadata": {},
   "outputs": [
    {
     "name": "stdout",
     "output_type": "stream",
     "text": [
      "tensor([ 1.0000,  2.7183,  7.3891, 20.0855, 54.5982])\n",
      "[1.0, 2.7182817, 7.389056, 20.085537, 54.598152]\n",
      "4\n",
      "1.0\n"
     ]
    }
   ],
   "source": [
    "x = torch.Tensor([0,1,2,3,4])\n",
    "x_1 = torch.exp(x)\n",
    "print(x_1)\n",
    "x_2 = list(x_1.numpy())\n",
    "print(x_2)\n",
    "x_3 = np.argmax(x_2, axis=0)\n",
    "print(x_3)\n",
    "\n",
    "print(accuracy_score([np.argmax(torch.exp(x).numpy())],[4]))\n"
   ]
  },
  {
   "cell_type": "code",
   "execution_count": 36,
   "metadata": {},
   "outputs": [
    {
     "name": "stderr",
     "output_type": "stream",
     "text": [
      "/usr/local/anaconda3/lib/python3.7/site-packages/ipykernel_launcher.py:8: UserWarning: Matplotlib is currently using module://ipykernel.pylab.backend_inline, which is a non-GUI backend, so cannot show the figure.\n",
      "  \n"
     ]
    },
    {
     "data": {
      "image/png": "[encoded data removed]",
      "text/plain": [
       "<Figure size 432x288 with 1 Axes>"
      ]
     },
     "metadata": {
      "needs_background": "light"
     },
     "output_type": "display_data"
    }
   ],
   "source": [
    "I = [ torch.Tensor([i]) for i in range(300) ]\n",
    "J = [ torch.Tensor([j]) for j in range(0, 300, 2) ]\n",
    "\n",
    "fig, ax = plt.subplots(nrows=1,ncols=1)\n",
    "ax.plot(I, label=\"Training Loss\")\n",
    "ax.plot(J, label=\"Testing Loss\")\n",
    "ax.legend()\n",
    "fig.show()"
   ]
  },
  {
   "cell_type": "code",
   "execution_count": null,
   "metadata": {},
   "outputs": [],
   "source": []
  }
 ],
 "metadata": {
  "kernelspec": {
   "display_name": "mnist-venv",
   "language": "python",
   "name": "mnist-venv"
  },
  "language_info": {
   "codemirror_mode": {
    "name": "ipython",
    "version": 3
   },
   "file_extension": ".py",
   "mimetype": "text/x-python",
   "name": "python",
   "nbconvert_exporter": "python",
   "pygments_lexer": "ipython3",
   "version": "3.7.4"
  }
 },
 "nbformat": 4,
 "nbformat_minor": 2
}
