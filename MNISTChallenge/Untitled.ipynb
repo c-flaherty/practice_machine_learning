{
 "cells": [
  {
   "cell_type": "code",
   "execution_count": 4,
   "metadata": {},
   "outputs": [],
   "source": [
    "# Setup\n",
    "import pandas as pd\n",
    "import numpy as np\n",
    "import matplotlib.pyplot as plt\n",
    "from tqdm import tqdm as loading_bar\n",
    "from sklearn.model_selection import train_test_split\n",
    "from sklearn.metrics import accuracy_score\n",
    "\n",
    "import torch\n",
    "import torch.nn as nn\n",
    "import torch.optim as optim\n",
    "import torch.utils.data as data_helpers\n",
    "\n",
    "torch.set_default_dtype(torch.float32)\n"
   ]
  },
  {
   "cell_type": "code",
   "execution_count": 5,
   "metadata": {},
   "outputs": [],
   "source": [
    "# Importing Data\n",
    "\n",
    "train_data = pd.read_csv(\"digit-recognizer/train.csv\")\n",
    "submission_data = pd.read_csv(\"digit-recognizer/test.csv\")"
   ]
  },
  {
   "cell_type": "code",
   "execution_count": 18,
   "metadata": {},
   "outputs": [
    {
     "name": "stdout",
     "output_type": "stream",
     "text": [
      "Training data shape: (42000, 785)\n",
      "Testing data shape: (28000, 784)\n",
      "Training Data: (Images: torch.Size([37800, 1, 28, 28]), Labels: torch.Size([37800]))\n",
      "Testing Data: (Images: torch.Size([4200, 1, 28, 28]), Labels: torch.Size([4200]))\n",
      "Submission Data: (Images: torch.Size([28000, 1, 28, 28]))\n"
     ]
    }
   ],
   "source": [
    "print(f'Training data shape: {train_data.shape}')\n",
    "print(f'Testing data shape: {submission_data.shape}')\n",
    "\n",
    "train_x = np.reshape(train_data.iloc[:,1:].to_numpy(np.float32), (-1,1,28,28))\n",
    "train_y = train_data.iloc[:,0].to_numpy()\n",
    "train_x, test_x, train_y, test_y = train_test_split(train_x, train_y, test_size = 0.1)\n",
    "train_x, test_x, train_y, test_y = torch.from_numpy(train_x), \\\n",
    "                                   torch.from_numpy(test_x), \\\n",
    "                                   torch.from_numpy(train_y),\\\n",
    "                                   torch.from_numpy(test_y)\n",
    "\n",
    "submission_x = torch.from_numpy(np.reshape(submission_data.to_numpy(np.float32),(-1,1,28,28)))\n",
    "print(f'Training Data: (Images: {train_x.shape}, Labels: {train_y.shape})')\n",
    "print(f'Testing Data: (Images: {test_x.shape}, Labels: {test_y.shape})')\n",
    "print(f'Submission Data: (Images: {submission_x.shape})')"
   ]
  },
  {
   "cell_type": "code",
   "execution_count": 7,
   "metadata": {},
   "outputs": [
    {
     "data": {
      "image/png": "[encoded data removed]",
      "text/plain": [
       "<Figure size 432x288 with 9 Axes>"
      ]
     },
     "metadata": {
      "needs_background": "light"
     },
     "output_type": "display_data"
    }
   ],
   "source": [
    "# Sample Images\n",
    "\n",
    "fig, axes = plt.subplots(3,3)\n",
    "axes = axes.flatten()\n",
    "for i in range(9):\n",
    "    sample_img = train_x[i,0,:,:]\n",
    "    axes[i].imshow(sample_img)"
   ]
  },
  {
   "cell_type": "code",
   "execution_count": 10,
   "metadata": {},
   "outputs": [],
   "source": [
    "# Create CNN Class\n",
    "\n",
    "class CNN(nn.Module):\n",
    "    def __init__(self):\n",
    "        super(CNN, self).__init__()\n",
    "        self.conv_layer=nn.Sequential(\n",
    "            nn.Conv2d(\n",
    "                in_channels=1,\n",
    "                out_channels=16,\n",
    "                kernel_size=3,\n",
    "                padding=1,\n",
    "            ),\n",
    "            nn.ReLU(),\n",
    "            nn.MaxPool2d(\n",
    "                kernel_size=2,\n",
    "            ),\n",
    "            nn.Conv2d(\n",
    "                in_channels=16,\n",
    "                out_channels=16,\n",
    "                kernel_size=3,\n",
    "                padding=1\n",
    "            ),\n",
    "            nn.ReLU(),\n",
    "            nn.MaxPool2d(\n",
    "                kernel_size=2,\n",
    "            ),\n",
    "            nn.Flatten(start_dim=1,end_dim=3)\n",
    "        )\n",
    "        self.linear_layer=nn.Sequential(\n",
    "            nn.Linear(\n",
    "                in_features=784,\n",
    "                out_features=10,\n",
    "            ),\n",
    "        )\n",
    "        \n",
    "        self.loss_fn = nn.CrossEntropyLoss()\n",
    "        self.optimizer= optim.SGD(self.parameters(),lr=0.01)\n",
    "        \n",
    "        self.training_losses = []\n",
    "        self.testing_losses = []\n",
    "        \n",
    "    def forward(self, img):\n",
    "        # img is 28*28 vector\n",
    "        return self.linear_layer(self.conv_layer(img))\n",
    "    \n",
    "    def learn_weights(self, train_x, train_y, test_x, test_y, epochs):\n",
    "        self.train()\n",
    "        sampler = data_helpers.BatchSampler(\n",
    "            data_helpers.SubsetRandomSampler(range(train_x.shape[0])),\n",
    "            batch_size=32,\n",
    "            drop_last=False\n",
    "        )\n",
    "        \n",
    "        for epoch in range(epochs):\n",
    "            for batch in loading_bar(sampler, desc=f'(Current Epoch: {epoch})'):\n",
    "                batch_train_x = train_x[batch,:,:,:]\n",
    "                batch_train_y = train_y[batch]\n",
    "                \n",
    "                self.optimizer.zero_grad()\n",
    "                \n",
    "                batch_train_pred_y = self.forward(batch_train_x)\n",
    "                train_loss = self.loss_fn(batch_train_pred_y, batch_train_y)\n",
    "                \n",
    "                train_loss.backward()\n",
    "                self.optimizer.step()\n",
    "            \n",
    "            # train_pred_y = self.forward(train_x)\n",
    "            # epochal_training_loss = self.loss_fn(train_pred_y, train_y)\n",
    "            # self.training_losses.append(epochal_training_loss)\n",
    "            \n",
    "            test_pred_y_first_200 = self.forward(test_x[0:200,:,:,:])\n",
    "            epochal_testing_loss = self.loss_fn(test_pred_y_first_200, test_y[0:200])\n",
    "            self.testing_losses.append(epochal_testing_loss)\n",
    "                \n",
    "    def visualize_training(self):\n",
    "        fig, ax = plt.subplots(nrows=1,ncols=1)\n",
    "        # ax.plot(self.training_losses, label=\"Training Loss\")\n",
    "        ax.plot(self.testing_losses, label=\"Testing Loss\")\n",
    "        ax.legend()\n",
    "        fig.show()\n",
    "        \n",
    "    def MAP(self, x):\n",
    "        with torch.no_grad():\n",
    "            raw_pred_y = self.forward(x)\n",
    "        \n",
    "        categorical_pred_y = np.argmax(torch.exp(raw_pred_y).numpy(), axis=1)\n",
    "        return categorical_pred_y\n",
    "    \n",
    "    def compute_accuracy(self, test_x, test_y):\n",
    "        return accuracy_score(self.MAP(test_x), test_y)\n",
    "            \n",
    "    "
   ]
  },
  {
   "cell_type": "code",
   "execution_count": 11,
   "metadata": {},
   "outputs": [
    {
     "name": "stderr",
     "output_type": "stream",
     "text": [
      "(Current Epoch: 0): 100%|██████████| 1182/1182 [00:11<00:00, 103.95it/s]\n",
      "(Current Epoch: 1): 100%|██████████| 1182/1182 [00:11<00:00, 102.92it/s]\n",
      "(Current Epoch: 2): 100%|██████████| 1182/1182 [00:11<00:00, 102.38it/s]\n",
      "(Current Epoch: 3): 100%|██████████| 1182/1182 [00:10<00:00, 111.83it/s]\n",
      "(Current Epoch: 4): 100%|██████████| 1182/1182 [00:10<00:00, 109.68it/s]\n",
      "(Current Epoch: 5): 100%|██████████| 1182/1182 [00:11<00:00, 100.12it/s]\n",
      "(Current Epoch: 6): 100%|██████████| 1182/1182 [00:10<00:00, 116.61it/s]\n",
      "(Current Epoch: 7): 100%|██████████| 1182/1182 [00:09<00:00, 119.25it/s]\n",
      "(Current Epoch: 8): 100%|██████████| 1182/1182 [00:09<00:00, 118.68it/s]\n",
      "(Current Epoch: 9): 100%|██████████| 1182/1182 [00:09<00:00, 119.02it/s]\n"
     ]
    }
   ],
   "source": [
    "# Train model\n",
    "\n",
    "model = CNN()\n",
    "model.learn_weights(train_x, train_y, test_x, test_y, epochs=10)\n",
    "\n"
   ]
  },
  {
   "cell_type": "code",
   "execution_count": 12,
   "metadata": {},
   "outputs": [
    {
     "name": "stderr",
     "output_type": "stream",
     "text": [
      "/usr/local/anaconda3/lib/python3.7/site-packages/ipykernel_launcher.py:80: UserWarning: Matplotlib is currently using module://ipykernel.pylab.backend_inline, which is a non-GUI backend, so cannot show the figure.\n"
     ]
    },
    {
     "data": {
      "image/png": "[encoded data removed]",
      "text/plain": [
       "<Figure size 432x288 with 1 Axes>"
      ]
     },
     "metadata": {
      "needs_background": "light"
     },
     "output_type": "display_data"
    }
   ],
   "source": [
    "model.visualize_training()\n",
    "    "
   ]
  },
  {
   "cell_type": "code",
   "execution_count": 25,
   "metadata": {},
   "outputs": [],
   "source": [
    "submission_y = pd.DataFrame({\"ImageId\": list(range(1, submission_x.shape[0]+1)), \"Label\": model.MAP(submission_x)})\n",
    "submission_y.to_csv(\"submission.csv\", index=False)"
   ]
  },
  {
   "cell_type": "code",
   "execution_count": null,
   "metadata": {},
   "outputs": [],
   "source": []
  }
 ],
 "metadata": {
  "kernelspec": {
   "display_name": "mnist-venv",
   "language": "python",
   "name": "mnist-venv"
  },
  "language_info": {
   "codemirror_mode": {
    "name": "ipython",
    "version": 3
   },
   "file_extension": ".py",
   "mimetype": "text/x-python",
   "name": "python",
   "nbconvert_exporter": "python",
   "pygments_lexer": "ipython3",
   "version": "3.7.4"
  }
 },
 "nbformat": 4,
 "nbformat_minor": 2
}
