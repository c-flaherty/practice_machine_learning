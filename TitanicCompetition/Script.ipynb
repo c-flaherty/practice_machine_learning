{
 "cells": [
  {
   "cell_type": "code",
   "execution_count": 1,
   "metadata": {},
   "outputs": [
    {
     "name": "stdout",
     "output_type": "stream",
     "text": [
      "-------------------------\n"
     ]
    }
   ],
   "source": [
    "'''\n",
    "LOADING MODULES AND DATA\n",
    "'''\n",
    "import pandas as pd\n",
    "import numpy as np\n",
    "import matplotlib.pyplot as plt\n",
    "from sklearn.model_selection import cross_val_score\n",
    "from sklearn import svm, tree, linear_model, neighbors, naive_bayes, ensemble, discriminant_analysis, gaussian_process\n",
    "\n",
    "#ignore warnings\n",
    "import warnings\n",
    "warnings.filterwarnings('ignore')\n",
    "print('-'*25)\n",
    "\n",
    "\n",
    "training_data = pd.read_csv(\"titanic/train.csv\")\n",
    "eval_data = pd.read_csv(\"titanic/test.csv\")"
   ]
  },
  {
   "cell_type": "code",
   "execution_count": 2,
   "metadata": {},
   "outputs": [
    {
     "name": "stdout",
     "output_type": "stream",
     "text": [
      "<class 'pandas.core.frame.DataFrame'>\n",
      "RangeIndex: 891 entries, 0 to 890\n",
      "Data columns (total 12 columns):\n",
      "PassengerId    891 non-null int64\n",
      "Survived       891 non-null int64\n",
      "Pclass         891 non-null int64\n",
      "Name           891 non-null object\n",
      "Sex            891 non-null object\n",
      "Age            714 non-null float64\n",
      "SibSp          891 non-null int64\n",
      "Parch          891 non-null int64\n",
      "Ticket         891 non-null object\n",
      "Fare           891 non-null float64\n",
      "Cabin          204 non-null object\n",
      "Embarked       889 non-null object\n",
      "dtypes: float64(2), int64(5), object(5)\n",
      "memory usage: 83.7+ KB\n",
      "None\n",
      "     PassengerId  Survived  Pclass  \\\n",
      "269          270         1       1   \n",
      "717          718         1       2   \n",
      "797          798         1       3   \n",
      "617          618         0       3   \n",
      "781          782         1       1   \n",
      "\n",
      "                                                Name     Sex   Age  SibSp  \\\n",
      "269                           Bissette, Miss. Amelia  female  35.0      0   \n",
      "717              Troutt, Miss. Edwina Celia \"Winnie\"  female  27.0      0   \n",
      "797                                 Osman, Mrs. Mara  female  31.0      0   \n",
      "617  Lobb, Mrs. William Arthur (Cordelia K Stanlick)  female  26.0      1   \n",
      "781        Dick, Mrs. Albert Adrian (Vera Gillespie)  female  17.0      1   \n",
      "\n",
      "     Parch     Ticket      Fare Cabin Embarked  \n",
      "269      0   PC 17760  135.6333   C99        S  \n",
      "717      0      34218   10.5000  E101        S  \n",
      "797      0     349244    8.6833   NaN        S  \n",
      "617      0  A/5. 3336   16.1000   NaN        S  \n",
      "781      0      17474   57.0000   B20        S  \n",
      "Survived:  [0 1]\n",
      "Pclass:  [3 1 2]\n",
      "Sex:  ['male' 'female']\n",
      "SibSp:  [1 0 3 4 2 5 8]\n",
      "Parch:  [0 1 2 5 3 4 6]\n",
      "Cabin:  [nan 'C85' 'C123' 'E46' 'G6' 'C103' 'D56' 'A6' 'C23 C25 C27' 'B78' 'D33'\n",
      " 'B30' 'C52' 'B28' 'C83' 'F33' 'F G73' 'E31' 'A5' 'D10 D12' 'D26' 'C110'\n",
      " 'B58 B60' 'E101' 'F E69' 'D47' 'B86' 'F2' 'C2' 'E33' 'B19' 'A7' 'C49'\n",
      " 'F4' 'A32' 'B4' 'B80' 'A31' 'D36' 'D15' 'C93' 'C78' 'D35' 'C87' 'B77'\n",
      " 'E67' 'B94' 'C125' 'C99' 'C118' 'D7' 'A19' 'B49' 'D' 'C22 C26' 'C106'\n",
      " 'C65' 'E36' 'C54' 'B57 B59 B63 B66' 'C7' 'E34' 'C32' 'B18' 'C124' 'C91'\n",
      " 'E40' 'T' 'C128' 'D37' 'B35' 'E50' 'C82' 'B96 B98' 'E10' 'E44' 'A34'\n",
      " 'C104' 'C111' 'C92' 'E38' 'D21' 'E12' 'E63' 'A14' 'B37' 'C30' 'D20' 'B79'\n",
      " 'E25' 'D46' 'B73' 'C95' 'B38' 'B39' 'B22' 'C86' 'C70' 'A16' 'C101' 'C68'\n",
      " 'A10' 'E68' 'B41' 'A20' 'D19' 'D50' 'D9' 'A23' 'B50' 'A26' 'D48' 'E58'\n",
      " 'C126' 'B71' 'B51 B53 B55' 'D49' 'B5' 'B20' 'F G63' 'C62 C64' 'E24' 'C90'\n",
      " 'C45' 'E8' 'B101' 'D45' 'C46' 'D30' 'E121' 'D11' 'E77' 'F38' 'B3' 'D6'\n",
      " 'B82 B84' 'D17' 'A36' 'B102' 'B69' 'E49' 'C47' 'D28' 'E17' 'A24' 'C50'\n",
      " 'B42' 'C148']\n",
      "Embarked:  ['S' 'C' 'Q' nan]\n",
      "How many passengers have their cabin listed as 'nan'?\n",
      "687 out of 891\n"
     ]
    }
   ],
   "source": [
    "'''\n",
    "DATA EXPLORATION\n",
    "'''\n",
    "print(training_data.info())\n",
    "print(training_data.sample(5))\n",
    "for col in [col for col in training_data.columns if col not in ['PassengerId','Age','Name','Fare','Ticket']]:\n",
    "    print(col+\": \",training_data[col].unique())\n",
    "    \n",
    "print(\"How many passengers have their cabin listed as 'nan'?\")\n",
    "print(training_data[\"Cabin\"].isnull().sum(),\"out of\", training_data[\"Cabin\"].size)"
   ]
  },
  {
   "cell_type": "code",
   "execution_count": 3,
   "metadata": {},
   "outputs": [
    {
     "name": "stdout",
     "output_type": "stream",
     "text": [
      "Counts of NaN entries by column: \n",
      " PassengerId      0\n",
      "Survived         0\n",
      "Pclass           0\n",
      "Name             0\n",
      "Sex              0\n",
      "Age            177\n",
      "SibSp            0\n",
      "Parch            0\n",
      "Ticket           0\n",
      "Fare             0\n",
      "Cabin          687\n",
      "Embarked         2\n",
      "dtype: int64\n"
     ]
    }
   ],
   "source": [
    "'''\n",
    "FILLING IN NULL DATA\n",
    "'''\n",
    "\n",
    "print(\"Counts of NaN entries by column: \\n\",training_data.isnull().sum())\n",
    "\n",
    "# Most passengers were not in a cabin. \n",
    "# Reduce Cabin to either Cabin or Not Cabin\n",
    "\n",
    "# Fill Nans for Cabin\n",
    "training_data.loc[training_data[\"Cabin\"].notnull(),\"Cabin\"] = \"Cabin\"\n",
    "training_data[\"Cabin\"].fillna(\"Not Cabin\", inplace = True)\n",
    "\n",
    "fig1, (ax1,ax2) = plt.subplots(ncols=1,nrows=2,figsize=(10,10))\n",
    "ax1.hist(training_data[\"Age\"])\n",
    "ax2.hist(training_data.loc[training_data[\"Embarked\"].notnull(),\"Embarked\"])\n",
    "fig1.show()\n",
    "\n",
    "# Since the ages of passengers approximately exhibit a skewed Gaussian,\n",
    "#   a good estimator for the age would be the median\n",
    "median_age = training_data[\"Age\"].median()\n",
    "training_data[\"Age\"].fillna(median_age, inplace = True)\n",
    "\n",
    "# Since the origin location is overwhelmingly \"S\", \n",
    "#   S would make for a good estimator for the Embarked variable\n",
    "training_data[\"Embarked\"].fillna(\"S\", inplace = True)\n"
   ]
  },
  {
   "cell_type": "code",
   "execution_count": 4,
   "metadata": {},
   "outputs": [
    {
     "name": "stdout",
     "output_type": "stream",
     "text": [
      "Counts of NaN entries by column: \n",
      " PassengerId    0\n",
      "Survived       0\n",
      "Pclass         0\n",
      "Name           0\n",
      "Sex            0\n",
      "Age            0\n",
      "SibSp          0\n",
      "Parch          0\n",
      "Ticket         0\n",
      "Fare           0\n",
      "Cabin          0\n",
      "Embarked       0\n",
      "dtype: int64\n"
     ]
    },
    {
     "data": {
      "image/png": "[encoded data removed]",
      "text/plain": [
       "<Figure size 720x720 with 2 Axes>"
      ]
     },
     "metadata": {
      "needs_background": "light"
     },
     "output_type": "display_data"
    }
   ],
   "source": [
    "print(\"Counts of NaN entries by column: \\n\",training_data.isnull().sum())\n",
    "\n",
    "fig2, (ax1,ax2) = plt.subplots(ncols=1,nrows=2,figsize=(10,10))\n",
    "ax1.hist(training_data[\"Age\"])\n",
    "ax2.hist(training_data[\"Embarked\"])\n",
    "fig2.show()\n"
   ]
  },
  {
   "cell_type": "code",
   "execution_count": 5,
   "metadata": {},
   "outputs": [
    {
     "name": "stdout",
     "output_type": "stream",
     "text": [
      "Index(['PassengerId', 'Survived', 'Pclass', 'Name', 'Sex', 'Age', 'SibSp',\n",
      "       'Parch', 'Ticket', 'Fare', 'Cabin', 'Embarked'],\n",
      "      dtype='object')\n",
      "     PassengerId  Survived  Pclass                               Name   Sex  \\\n",
      "536          537         0       1  Butt, Major. Archibald Willingham  male   \n",
      "\n",
      "      Age  SibSp  Parch  Ticket   Fare  Cabin Embarked  \n",
      "536  45.0      0      0  113050  26.55  Cabin        S  \n",
      "Index(['PassengerId', 'Survived', 'Name', 'Age', 'SibSp', 'Parch', 'Ticket',\n",
      "       'Fare', 'Sex_female', 'Sex_male', 'Pclass_1', 'Pclass_2', 'Pclass_3',\n",
      "       'Embarked_C', 'Embarked_Q', 'Embarked_S', 'Cabin_Cabin',\n",
      "       'Cabin_Not Cabin'],\n",
      "      dtype='object')\n",
      "     PassengerId  Survived                         Name   Age  SibSp  Parch  \\\n",
      "475          476         0  Clifford, Mr. George Quincy  28.0      0      0   \n",
      "\n",
      "     Ticket  Fare  Sex_female  Sex_male  Pclass_1  Pclass_2  Pclass_3  \\\n",
      "475  110465  52.0           0         1         1         0         0   \n",
      "\n",
      "     Embarked_C  Embarked_Q  Embarked_S  Cabin_Cabin  Cabin_Not Cabin  \n",
      "475           0           0           1            1                0  \n"
     ]
    }
   ],
   "source": [
    "'''\n",
    "ONE HOT ENCODING OF CATEGORICAL VARIABLES\n",
    "'''\n",
    " \n",
    "print(training_data.columns)\n",
    "print(training_data.sample(1))\n",
    "training_data = pd.get_dummies(training_data,columns=[\"Sex\", \"Pclass\",\"Embarked\",\"Cabin\"])\n",
    "print(training_data.columns)\n",
    "print(training_data.sample(1))\n"
   ]
  },
  {
   "cell_type": "code",
   "execution_count": 6,
   "metadata": {},
   "outputs": [
    {
     "name": "stdout",
     "output_type": "stream",
     "text": [
      "Accuracy: 0.80 (+/- 0.07)\n",
      "Accuracy: 0.80 (+/- 0.05)\n",
      "Accuracy: 0.80 (+/- 0.04)\n",
      "Accuracy: 0.83 (+/- 0.04)\n",
      "Accuracy: 0.81 (+/- 0.04)\n",
      "Accuracy: 0.72 (+/- 0.05)\n",
      "Accuracy: 0.80 (+/- 0.03)\n",
      "Accuracy: 0.64 (+/- 0.27)\n",
      "Accuracy: 0.80 (+/- 0.04)\n",
      "Accuracy: 0.75 (+/- 0.09)\n",
      "Accuracy: 0.65 (+/- 0.15)\n",
      "Accuracy: 0.77 (+/- 0.04)\n",
      "Accuracy: 0.77 (+/- 0.06)\n",
      "Accuracy: 0.71 (+/- 0.06)\n",
      "Accuracy: 0.73 (+/- 0.07)\n",
      "Accuracy: 0.73 (+/- 0.08)\n",
      "Accuracy: 0.72 (+/- 0.09)\n",
      "Accuracy: 0.77 (+/- 0.07)\n",
      "Accuracy: 0.78 (+/- 0.05)\n",
      "Accuracy: 0.80 (+/- 0.04)\n",
      "Accuracy: 0.60 (+/- 0.27)\n"
     ]
    }
   ],
   "source": [
    "'''\n",
    "TRYING DIFFERENT MODELS\n",
    "'''\n",
    "\n",
    "# Training Data\n",
    "Features = training_data.drop([\"Survived\",\"Name\",\"Ticket\", \"PassengerId\"],axis=1)\n",
    "Outcome = training_data[\"Survived\"]\n",
    "\n",
    "# 5-fold Cross Validation on a model\n",
    "def test_model(model):\n",
    "    scores = cross_val_score(model,Features,Outcome,cv=5)\n",
    "    print(\"Accuracy: %0.2f (+/- %0.2f)\" % (scores.mean(), scores.std() * 2))\n",
    "\n",
    "# Models to Try\n",
    "MLA = [\n",
    "    ensemble.AdaBoostClassifier(),\n",
    "    ensemble.BaggingClassifier(),\n",
    "    ensemble.ExtraTreesClassifier(),\n",
    "    ensemble.GradientBoostingClassifier(),\n",
    "    ensemble.RandomForestClassifier(),\n",
    "\n",
    "    gaussian_process.GaussianProcessClassifier(),\n",
    "    \n",
    "    linear_model.LogisticRegressionCV(),\n",
    "    linear_model.PassiveAggressiveClassifier(),\n",
    "    linear_model.RidgeClassifierCV(),\n",
    "    linear_model.SGDClassifier(),\n",
    "    linear_model.Perceptron(),\n",
    "    \n",
    "    naive_bayes.BernoulliNB(),\n",
    "    naive_bayes.GaussianNB(),\n",
    "    \n",
    "    neighbors.KNeighborsClassifier(),\n",
    "    \n",
    "    svm.SVC(probability=True),\n",
    "    svm.NuSVC(probability=True),\n",
    "    svm.LinearSVC(),\n",
    "    \n",
    "    tree.DecisionTreeClassifier(),\n",
    "    tree.ExtraTreeClassifier(),\n",
    "    \n",
    "    discriminant_analysis.LinearDiscriminantAnalysis(),\n",
    "    discriminant_analysis.QuadraticDiscriminantAnalysis(),\n",
    "\n",
    "    ]\n",
    "\n",
    "for model in MLA:\n",
    "    test_model(model)\n",
    "    "
   ]
  },
  {
   "cell_type": "code",
   "execution_count": 13,
   "metadata": {},
   "outputs": [
    {
     "data": {
      "text/plain": [
       "GridSearchCV(cv=5, error_score='raise-deprecating',\n",
       "             estimator=GradientBoostingClassifier(criterion='friedman_mse',\n",
       "                                                  init=None, learning_rate=0.1,\n",
       "                                                  loss='deviance', max_depth=3,\n",
       "                                                  max_features=None,\n",
       "                                                  max_leaf_nodes=None,\n",
       "                                                  min_impurity_decrease=0.0,\n",
       "                                                  min_impurity_split=None,\n",
       "                                                  min_samples_leaf=1,\n",
       "                                                  min_samples_split=2,\n",
       "                                                  min_weight_fraction_leaf=0.0,\n",
       "                                                  n_estimators=100,\n",
       "                                                  n_iter_no_change=None,\n",
       "                                                  presort='auto',\n",
       "                                                  random_state=None,\n",
       "                                                  subsample=1.0, tol=0.0001,\n",
       "                                                  validation_fraction=0.1,\n",
       "                                                  verbose=0, warm_start=False),\n",
       "             iid='warn', n_jobs=-1,\n",
       "             param_grid={'n_estimators': [50, 100, 150, 200]},\n",
       "             pre_dispatch='2*n_jobs', refit=True, return_train_score=False,\n",
       "             scoring=None, verbose=0)"
      ]
     },
     "execution_count": 13,
     "metadata": {},
     "output_type": "execute_result"
    }
   ],
   "source": [
    "'''\n",
    "OPTIMIZING HYPERPARAMETERS ON OPTIMAL MODEL\n",
    "'''\n",
    "# It looks like ensemble.GradientBoostingClassifier() is the best classifier\n",
    "#   with an accuracy of 0.83 +/- 0.04\n",
    "\n",
    "# Optimizing Hyperparameters of the GradientBoosting Classifier\n",
    "from sklearn import model_selection\n",
    "\n",
    "model = ensemble.GradientBoostingClassifier()\n",
    "param_grid = {'n_estimators':[50,100,150,200]}\n",
    "\n",
    "tuned_model = model_selection.GridSearchCV(model,\n",
    "                                           param_grid=param_grid,\n",
    "                                           cv=5,\n",
    "                                           n_jobs=-1)\n",
    "tuned_model.fit(Features, Outcome)\n"
   ]
  },
  {
   "cell_type": "code",
   "execution_count": 8,
   "metadata": {},
   "outputs": [
    {
     "name": "stdout",
     "output_type": "stream",
     "text": [
      "Counts of NaN entries by column: \n",
      " PassengerId      0\n",
      "Pclass           0\n",
      "Name             0\n",
      "Sex              0\n",
      "Age             86\n",
      "SibSp            0\n",
      "Parch            0\n",
      "Ticket           0\n",
      "Fare             1\n",
      "Cabin          327\n",
      "Embarked         0\n",
      "dtype: int64\n"
     ]
    },
    {
     "data": {
      "image/png": "[encoded data removed]",
      "text/plain": [
       "<Figure size 720x720 with 2 Axes>"
      ]
     },
     "metadata": {
      "needs_background": "light"
     },
     "output_type": "display_data"
    }
   ],
   "source": [
    "'''\n",
    "FILLING IN NULL DATA OF EVALUATION DATA\n",
    "'''\n",
    "\n",
    "print(\"Counts of NaN entries by column: \\n\",eval_data.isnull().sum())\n",
    "\n",
    "# Fill Nans for Cabin\n",
    "eval_data.loc[eval_data[\"Cabin\"].notnull(),\"Cabin\"] = \"Cabin\"\n",
    "eval_data[\"Cabin\"].fillna(\"Not Cabin\", inplace = True)\n",
    "\n",
    "fig1, (ax1,ax2) = plt.subplots(ncols=1,nrows=2,figsize=(10,10))\n",
    "ax1.hist(eval_data[\"Age\"])\n",
    "ax2.hist(eval_data.loc[eval_data[\"Fare\"].notnull(),\"Fare\"])\n",
    "fig1.show()\n",
    "\n",
    "# Since the ages of passengers approximately exhibit a skewed Gaussian,\n",
    "#   a good estimator for the age would be the median\n",
    "median_age = eval_data[\"Age\"].median()\n",
    "eval_data[\"Age\"].fillna(median_age, inplace = True)\n",
    "\n",
    "# Since the fares of passengers are heavily skewed,\n",
    "#   a good estimator for the fares would be the median\n",
    "median_fare = eval_data[\"Fare\"].median()\n",
    "eval_data[\"Fare\"].fillna(median_fare, inplace = True)"
   ]
  },
  {
   "cell_type": "code",
   "execution_count": 9,
   "metadata": {},
   "outputs": [
    {
     "name": "stdout",
     "output_type": "stream",
     "text": [
      "Counts of NaN entries by column: \n",
      " PassengerId    0\n",
      "Pclass         0\n",
      "Name           0\n",
      "Sex            0\n",
      "Age            0\n",
      "SibSp          0\n",
      "Parch          0\n",
      "Ticket         0\n",
      "Fare           0\n",
      "Cabin          0\n",
      "Embarked       0\n",
      "dtype: int64\n"
     ]
    },
    {
     "data": {
      "image/png": "[encoded data removed]",
      "text/plain": [
       "<Figure size 720x720 with 2 Axes>"
      ]
     },
     "metadata": {
      "needs_background": "light"
     },
     "output_type": "display_data"
    }
   ],
   "source": [
    "print(\"Counts of NaN entries by column: \\n\",eval_data.isnull().sum())\n",
    "\n",
    "fig2, (ax1,ax2) = plt.subplots(ncols=1,nrows=2,figsize=(10,10))\n",
    "ax1.hist(eval_data[\"Age\"])\n",
    "ax2.hist(eval_data[\"Fare\"])\n",
    "fig2.show()\n"
   ]
  },
  {
   "cell_type": "code",
   "execution_count": 10,
   "metadata": {},
   "outputs": [
    {
     "name": "stdout",
     "output_type": "stream",
     "text": [
      "Index(['PassengerId', 'Survived', 'Name', 'Age', 'SibSp', 'Parch', 'Ticket',\n",
      "       'Fare', 'Sex_female', 'Sex_male', 'Pclass_1', 'Pclass_2', 'Pclass_3',\n",
      "       'Embarked_C', 'Embarked_Q', 'Embarked_S', 'Cabin_Cabin',\n",
      "       'Cabin_Not Cabin'],\n",
      "      dtype='object')\n",
      "     PassengerId  Survived                 Name   Age  SibSp  Parch  Ticket  \\\n",
      "109          110         1  Moran, Miss. Bertha  28.0      1      0  371110   \n",
      "\n",
      "      Fare  Sex_female  Sex_male  Pclass_1  Pclass_2  Pclass_3  Embarked_C  \\\n",
      "109  24.15           1         0         0         0         1           0   \n",
      "\n",
      "     Embarked_Q  Embarked_S  Cabin_Cabin  Cabin_Not Cabin  \n",
      "109           1           0            0                1  \n",
      "Index(['PassengerId', 'Survived', 'Name', 'Age', 'SibSp', 'Parch', 'Ticket',\n",
      "       'Fare', 'Sex_female', 'Sex_male', 'Pclass_1', 'Pclass_2', 'Pclass_3',\n",
      "       'Embarked_C', 'Embarked_Q', 'Embarked_S', 'Cabin_Cabin',\n",
      "       'Cabin_Not Cabin'],\n",
      "      dtype='object')\n",
      "     PassengerId  Survived               Name   Age  SibSp  Parch Ticket  \\\n",
      "531          532         0  Toufik, Mr. Nakli  28.0      0      0   2641   \n",
      "\n",
      "       Fare  Sex_female  Sex_male  Pclass_1  Pclass_2  Pclass_3  Embarked_C  \\\n",
      "531  7.2292           0         1         0         0         1           1   \n",
      "\n",
      "     Embarked_Q  Embarked_S  Cabin_Cabin  Cabin_Not Cabin  \n",
      "531           0           0            0                1  \n"
     ]
    }
   ],
   "source": [
    "'''\n",
    "ONE HOT ENCODING OF CATEGORICAL VARIABLES OF EVALUATION DATA\n",
    "'''\n",
    " \n",
    "print(training_data.columns)\n",
    "print(training_data.sample(1))\n",
    "eval_data = pd.get_dummies(eval_data,columns=[\"Sex\", \"Pclass\",\"Embarked\",\"Cabin\"])\n",
    "print(training_data.columns)\n",
    "print(training_data.sample(1))\n"
   ]
  },
  {
   "cell_type": "code",
   "execution_count": 14,
   "metadata": {},
   "outputs": [],
   "source": [
    "'''\n",
    "PREDICTING SURVIVAL FROM EVALUATION DATA\n",
    "'''\n",
    "Eval_Features = eval_data.drop([\"Name\",\"Ticket\", \"PassengerId\"],axis=1)\n",
    "Outcomes = tuned_model.predict(Eval_Features)"
   ]
  },
  {
   "cell_type": "code",
   "execution_count": 15,
   "metadata": {},
   "outputs": [],
   "source": [
    "'''\n",
    "SAVING PREDICTIONS TO CSV FOR SUBMISSION\n",
    "'''\n",
    "output = pd.DataFrame({\"PassengerId\": eval_data[\"PassengerId\"], \"Survived\": Outcomes})\n",
    "output.to_csv(\"evaluation_results.csv\",index=False)"
   ]
  }
 ],
 "metadata": {
  "kernelspec": {
   "display_name": "Python 3",
   "language": "python",
   "name": "python3"
  },
  "language_info": {
   "codemirror_mode": {
    "name": "ipython",
    "version": 3
   },
   "file_extension": ".py",
   "mimetype": "text/x-python",
   "name": "python",
   "nbconvert_exporter": "python",
   "pygments_lexer": "ipython3",
   "version": "3.7.4"
  }
 },
 "nbformat": 4,
 "nbformat_minor": 2
}
